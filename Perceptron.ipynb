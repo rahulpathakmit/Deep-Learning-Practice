{
 "cells": [
  {
   "cell_type": "code",
   "execution_count": 1,
   "metadata": {},
   "outputs": [],
   "source": [
    "import numpy as np\n",
    "from sklearn.svm import LinearSVC\n",
    "import pandas as pd"
   ]
  },
  {
   "cell_type": "code",
   "execution_count": 2,
   "metadata": {},
   "outputs": [],
   "source": [
    "# if Function is Or\n",
    "def OrFun(new):\n",
    "    x=np.array([[1,1],[1,0],[0,1],[0,0]])\n",
    "    y=np.array([1,1,1,0])  # output for or\n",
    "    clf = LinearSVC().fit(x,y)  #svm\n",
    "    linear_model = np.dot(new, clf.coef_[0]) + clf.intercept_  \n",
    "    #creating linear model using coef and intercept\n",
    "    y_predicted = 1 / (1 + np.exp(-(linear_model))) #passing that model to sigmoid function\n",
    "    yp = [1 if y_predicted > 0.5 else 0 ] #prediction based on sigmoid value\n",
    "    print(\"value of y for given tuple and function is:\",yp)\n",
    "    print(\"Intercept : {} \\nCoefficients : {}\".format(clf.intercept_,*clf.coef_))\n",
    "    \n",
    "#if Function is And    \n",
    "def AndFun(new):\n",
    "    x=np.array([[1,1],[1,0],[0,1],[0,0]])\n",
    "    y=np.array([1,0,0,0]) #output for and\n",
    "    clf = LinearSVC().fit(x,y) #svm\n",
    "    linear_model = np.dot(new, clf.coef_[0]) + clf.intercept_ \n",
    "    #creating linear model using coef and intercept\n",
    "    y_predicted = 1 / (1 + np.exp(-(linear_model))) #passing that model to sigmoid function\n",
    "    yp = [1 if y_predicted > 0.5 else 0 ] #prediction based on sigmoid value\n",
    "    print(\"value of y for given tuple and function is:\",yp)\n",
    "    print(\"Intercept : {} \\nCoefficients : {}\".format(clf.intercept_,*clf.coef_))\n",
    "    \n",
    "#if Function is Not\n",
    "def NotFun(new):\n",
    "    x=pd.DataFrame([1,0]).values.reshape(-1,1)\n",
    "    y=np.array([0,1]) #output for and\n",
    "    clf = LinearSVC().fit(x,y) #svm\n",
    "    linear_model = np.dot(new, clf.coef_[0]) + clf.intercept_ \n",
    "    #creating linear model using coef and intercept\n",
    "    y_predicted = 1 / (1 + np.exp(-(linear_model))) #passing that model to sigmoid function\n",
    "    yp = [1 if y_predicted > 0.5 else 0 ] #prediction based on sigmoid value\n",
    "    print(\"value of y for given tuple and function is:\",yp)\n",
    "    print(\"Intercept : {} \\nCoefficients : {}\".format(clf.intercept_,*clf.coef_))\n",
    "    \n",
    "#if function is Identity\n",
    "def IdentityFun(new):\n",
    "    x=pd.DataFrame([1,0]).values.reshape(-1,1)\n",
    "    y=np.array([1,0]) #output for and\n",
    "    clf = LinearSVC().fit(x,y) #svm\n",
    "    linear_model = np.dot(new, clf.coef_[0]) + clf.intercept_ \n",
    "    #creating linear model using coef and intercept\n",
    "    y_predicted = 1 / (1 + np.exp(-(linear_model))) #passing that model to sigmoid function\n",
    "    yp = [1 if y_predicted > 0.5 else 0 ] #prediction based on sigmoid value\n",
    "    print(\"value of y for given tuple and function is:\",yp)\n",
    "    print(\"Intercept : {} \\nCoefficients : {}\".format(clf.intercept_,*clf.coef_))"
   ]
  },
  {
   "cell_type": "code",
   "execution_count": 3,
   "metadata": {},
   "outputs": [],
   "source": [
    "def activation(fun):\n",
    "        if fun=='And':\n",
    "            new = np.array([input().strip().split()], int) #input from user\n",
    "            AndFun(new) #calling Add function\n",
    "        elif fun == 'Or':\n",
    "            new = np.array([input().strip().split()], int) #input from user\n",
    "            OrFun(new) #calling Or function\n",
    "        elif fun == 'Not':\n",
    "            new = np.array([input()], int) #input from user\n",
    "            NotFun(new) #calling Not function\n",
    "        elif fun == 'Identity':\n",
    "            new = np.array([input()], int) #input from user\n",
    "            IdentityFun(new) #calling Identity function"
   ]
  },
  {
   "cell_type": "code",
   "execution_count": 5,
   "metadata": {},
   "outputs": [
    {
     "name": "stdout",
     "output_type": "stream",
     "text": [
      "Which function? And\n",
      "1 0\n",
      "value of y for given tuple and function is: [0]\n",
      "Intercept : [-0.90323583] \n",
      "Coefficients : [0.51612203 0.51611443]\n"
     ]
    }
   ],
   "source": [
    "if __name__==\"__main__\":\n",
    "    fun=input(\"Which function? \")\n",
    "    activation(fun)"
   ]
  },
  {
   "cell_type": "code",
   "execution_count": null,
   "metadata": {},
   "outputs": [],
   "source": []
  }
 ],
 "metadata": {
  "hide_input": false,
  "kernelspec": {
   "display_name": "Python 3",
   "language": "python",
   "name": "python3"
  },
  "language_info": {
   "codemirror_mode": {
    "name": "ipython",
    "version": 3
   },
   "file_extension": ".py",
   "mimetype": "text/x-python",
   "name": "python",
   "nbconvert_exporter": "python",
   "pygments_lexer": "ipython3",
   "version": "3.7.3"
  },
  "toc": {
   "base_numbering": 1,
   "nav_menu": {},
   "number_sections": true,
   "sideBar": true,
   "skip_h1_title": false,
   "title_cell": "Table of Contents",
   "title_sidebar": "Contents",
   "toc_cell": false,
   "toc_position": {},
   "toc_section_display": true,
   "toc_window_display": false
  },
  "varInspector": {
   "cols": {
    "lenName": 16,
    "lenType": 16,
    "lenVar": 40
   },
   "kernels_config": {
    "python": {
     "delete_cmd_postfix": "",
     "delete_cmd_prefix": "del ",
     "library": "var_list.py",
     "varRefreshCmd": "print(var_dic_list())"
    },
    "r": {
     "delete_cmd_postfix": ") ",
     "delete_cmd_prefix": "rm(",
     "library": "var_list.r",
     "varRefreshCmd": "cat(var_dic_list()) "
    }
   },
   "types_to_exclude": [
    "module",
    "function",
    "builtin_function_or_method",
    "instance",
    "_Feature"
   ],
   "window_display": false
  }
 },
 "nbformat": 4,
 "nbformat_minor": 2
}
