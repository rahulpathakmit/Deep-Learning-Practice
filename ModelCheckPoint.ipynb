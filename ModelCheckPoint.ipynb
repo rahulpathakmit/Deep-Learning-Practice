{
 "cells": [
  {
   "cell_type": "code",
   "execution_count": 236,
   "metadata": {
    "colab": {},
    "colab_type": "code",
    "id": "0uwUESGz9yp3"
   },
   "outputs": [],
   "source": [
    "#importing neccessary libraries\n",
    "import tensorflow as tf\n",
    "from tensorflow import keras\n",
    "import numpy as np\n",
    "import pandas as pd\n",
    "from sklearn.model_selection import train_test_split"
   ]
  },
  {
   "cell_type": "code",
   "execution_count": 237,
   "metadata": {
    "colab": {},
    "colab_type": "code",
    "id": "D6RqSF3Y-hyL"
   },
   "outputs": [],
   "source": [
    "#loading dataset into a dataframe\n",
    "df = pd.read_csv(r\"D:\\Rahul\\MSC\\Dataset\\Connect-4.csv\")"
   ]
  },
  {
   "cell_type": "code",
   "execution_count": 238,
   "metadata": {
    "colab": {
     "base_uri": "https://localhost:8080/",
     "height": 35
    },
    "colab_type": "code",
    "id": "XSJEiyz7Fx_p",
    "outputId": "12368578-d6d5-4a32-a4ce-295bd5e021e6"
   },
   "outputs": [
    {
     "data": {
      "text/plain": [
       "(67556, 43)"
      ]
     },
     "execution_count": 238,
     "metadata": {},
     "output_type": "execute_result"
    }
   ],
   "source": [
    "#number of rows and columns of the dataset\n",
    "df.shape"
   ]
  },
  {
   "cell_type": "code",
   "execution_count": 239,
   "metadata": {
    "colab": {
     "base_uri": "https://localhost:8080/",
     "height": 218
    },
    "colab_type": "code",
    "id": "mkZUPyVO_LPj",
    "outputId": "8e66eb11-16ae-4ea4-f070-1deadab8f747"
   },
   "outputs": [
    {
     "data": {
      "text/html": [
       "<div>\n",
       "<style scoped>\n",
       "    .dataframe tbody tr th:only-of-type {\n",
       "        vertical-align: middle;\n",
       "    }\n",
       "\n",
       "    .dataframe tbody tr th {\n",
       "        vertical-align: top;\n",
       "    }\n",
       "\n",
       "    .dataframe thead th {\n",
       "        text-align: right;\n",
       "    }\n",
       "</style>\n",
       "<table border=\"1\" class=\"dataframe\">\n",
       "  <thead>\n",
       "    <tr style=\"text-align: right;\">\n",
       "      <th></th>\n",
       "      <th>b</th>\n",
       "      <th>b.1</th>\n",
       "      <th>b.2</th>\n",
       "      <th>b.3</th>\n",
       "      <th>b.4</th>\n",
       "      <th>b.5</th>\n",
       "      <th>b.6</th>\n",
       "      <th>b.7</th>\n",
       "      <th>b.8</th>\n",
       "      <th>b.9</th>\n",
       "      <th>...</th>\n",
       "      <th>b.25</th>\n",
       "      <th>b.26</th>\n",
       "      <th>b.27</th>\n",
       "      <th>b.28</th>\n",
       "      <th>b.29</th>\n",
       "      <th>b.30</th>\n",
       "      <th>b.31</th>\n",
       "      <th>b.32</th>\n",
       "      <th>b.33</th>\n",
       "      <th>win</th>\n",
       "    </tr>\n",
       "  </thead>\n",
       "  <tbody>\n",
       "    <tr>\n",
       "      <td>0</td>\n",
       "      <td>b</td>\n",
       "      <td>b</td>\n",
       "      <td>b</td>\n",
       "      <td>b</td>\n",
       "      <td>b</td>\n",
       "      <td>b</td>\n",
       "      <td>b</td>\n",
       "      <td>b</td>\n",
       "      <td>b</td>\n",
       "      <td>b</td>\n",
       "      <td>...</td>\n",
       "      <td>b</td>\n",
       "      <td>b</td>\n",
       "      <td>b</td>\n",
       "      <td>b</td>\n",
       "      <td>b</td>\n",
       "      <td>b</td>\n",
       "      <td>b</td>\n",
       "      <td>b</td>\n",
       "      <td>b</td>\n",
       "      <td>win</td>\n",
       "    </tr>\n",
       "    <tr>\n",
       "      <td>1</td>\n",
       "      <td>b</td>\n",
       "      <td>b</td>\n",
       "      <td>b</td>\n",
       "      <td>b</td>\n",
       "      <td>b</td>\n",
       "      <td>b</td>\n",
       "      <td>o</td>\n",
       "      <td>b</td>\n",
       "      <td>b</td>\n",
       "      <td>b</td>\n",
       "      <td>...</td>\n",
       "      <td>b</td>\n",
       "      <td>b</td>\n",
       "      <td>b</td>\n",
       "      <td>b</td>\n",
       "      <td>b</td>\n",
       "      <td>b</td>\n",
       "      <td>b</td>\n",
       "      <td>b</td>\n",
       "      <td>b</td>\n",
       "      <td>win</td>\n",
       "    </tr>\n",
       "    <tr>\n",
       "      <td>2</td>\n",
       "      <td>b</td>\n",
       "      <td>b</td>\n",
       "      <td>b</td>\n",
       "      <td>b</td>\n",
       "      <td>b</td>\n",
       "      <td>b</td>\n",
       "      <td>b</td>\n",
       "      <td>b</td>\n",
       "      <td>b</td>\n",
       "      <td>b</td>\n",
       "      <td>...</td>\n",
       "      <td>b</td>\n",
       "      <td>b</td>\n",
       "      <td>b</td>\n",
       "      <td>b</td>\n",
       "      <td>b</td>\n",
       "      <td>b</td>\n",
       "      <td>b</td>\n",
       "      <td>b</td>\n",
       "      <td>b</td>\n",
       "      <td>win</td>\n",
       "    </tr>\n",
       "    <tr>\n",
       "      <td>3</td>\n",
       "      <td>o</td>\n",
       "      <td>b</td>\n",
       "      <td>b</td>\n",
       "      <td>b</td>\n",
       "      <td>b</td>\n",
       "      <td>b</td>\n",
       "      <td>b</td>\n",
       "      <td>b</td>\n",
       "      <td>b</td>\n",
       "      <td>b</td>\n",
       "      <td>...</td>\n",
       "      <td>b</td>\n",
       "      <td>b</td>\n",
       "      <td>b</td>\n",
       "      <td>b</td>\n",
       "      <td>b</td>\n",
       "      <td>b</td>\n",
       "      <td>b</td>\n",
       "      <td>b</td>\n",
       "      <td>b</td>\n",
       "      <td>win</td>\n",
       "    </tr>\n",
       "    <tr>\n",
       "      <td>4</td>\n",
       "      <td>b</td>\n",
       "      <td>b</td>\n",
       "      <td>b</td>\n",
       "      <td>b</td>\n",
       "      <td>b</td>\n",
       "      <td>b</td>\n",
       "      <td>b</td>\n",
       "      <td>b</td>\n",
       "      <td>b</td>\n",
       "      <td>b</td>\n",
       "      <td>...</td>\n",
       "      <td>b</td>\n",
       "      <td>b</td>\n",
       "      <td>b</td>\n",
       "      <td>o</td>\n",
       "      <td>b</td>\n",
       "      <td>b</td>\n",
       "      <td>b</td>\n",
       "      <td>b</td>\n",
       "      <td>b</td>\n",
       "      <td>win</td>\n",
       "    </tr>\n",
       "  </tbody>\n",
       "</table>\n",
       "<p>5 rows × 43 columns</p>\n",
       "</div>"
      ],
      "text/plain": [
       "   b b.1 b.2 b.3 b.4 b.5 b.6 b.7 b.8 b.9  ... b.25 b.26 b.27 b.28 b.29 b.30  \\\n",
       "0  b   b   b   b   b   b   b   b   b   b  ...    b    b    b    b    b    b   \n",
       "1  b   b   b   b   b   b   o   b   b   b  ...    b    b    b    b    b    b   \n",
       "2  b   b   b   b   b   b   b   b   b   b  ...    b    b    b    b    b    b   \n",
       "3  o   b   b   b   b   b   b   b   b   b  ...    b    b    b    b    b    b   \n",
       "4  b   b   b   b   b   b   b   b   b   b  ...    b    b    b    o    b    b   \n",
       "\n",
       "  b.31 b.32 b.33  win  \n",
       "0    b    b    b  win  \n",
       "1    b    b    b  win  \n",
       "2    b    b    b  win  \n",
       "3    b    b    b  win  \n",
       "4    b    b    b  win  \n",
       "\n",
       "[5 rows x 43 columns]"
      ]
     },
     "execution_count": 239,
     "metadata": {},
     "output_type": "execute_result"
    }
   ],
   "source": [
    "#first 5 records of the dataset\n",
    "df.head()"
   ]
  },
  {
   "cell_type": "code",
   "execution_count": 240,
   "metadata": {
    "colab": {
     "base_uri": "https://localhost:8080/",
     "height": 35
    },
    "colab_type": "code",
    "id": "sFSbrf9BCRhb",
    "outputId": "89d19b79-02e8-4dc8-da73-371625bf0782"
   },
   "outputs": [
    {
     "data": {
      "text/plain": [
       "array(['win', 'draw', 'loss'], dtype=object)"
      ]
     },
     "execution_count": 240,
     "metadata": {},
     "output_type": "execute_result"
    }
   ],
   "source": [
    "#unique values for output variable\n",
    "df.win.unique()"
   ]
  },
  {
   "cell_type": "code",
   "execution_count": 241,
   "metadata": {
    "colab": {},
    "colab_type": "code",
    "id": "ZZfYPJUR_yYa"
   },
   "outputs": [],
   "source": [
    "#support function to change the data type to int\n",
    "def changedtype(data):\n",
    "    #storing number of rows and columns into variables\n",
    "    a,b=data.shape\n",
    "    #data type for each attribute is object\n",
    "    #to use MLP we have to convert it into the numperic type\n",
    "    for i in range(b): #for the range of total number of columns\n",
    "        data.iloc[:,i]= data.iloc[:,i].astype('category')  # changing the type of each column into category type\n",
    "        data.iloc[:,i] = data.iloc[:,i].cat.codes #again converting it into numperic type\n",
    "    return data"
   ]
  },
  {
   "cell_type": "code",
   "execution_count": 242,
   "metadata": {
    "colab": {},
    "colab_type": "code",
    "id": "jEkVWYX5ANfz"
   },
   "outputs": [],
   "source": [
    "#change the data type of required columns\n",
    "data=changedtype(df)\n",
    "a,b=data.shape\n",
    "x=data.iloc[:,:b-1] #storing input vairables into x\n",
    "y=data.iloc[:,b-1] #storing output vairables into y"
   ]
  },
  {
   "cell_type": "code",
   "execution_count": 243,
   "metadata": {
    "colab": {
     "base_uri": "https://localhost:8080/",
     "height": 427
    },
    "colab_type": "code",
    "id": "uz5CXfNAAUrx",
    "outputId": "53176dec-d093-4b57-8147-fb3ff400879f"
   },
   "outputs": [
    {
     "data": {
      "text/html": [
       "<div>\n",
       "<style scoped>\n",
       "    .dataframe tbody tr th:only-of-type {\n",
       "        vertical-align: middle;\n",
       "    }\n",
       "\n",
       "    .dataframe tbody tr th {\n",
       "        vertical-align: top;\n",
       "    }\n",
       "\n",
       "    .dataframe thead th {\n",
       "        text-align: right;\n",
       "    }\n",
       "</style>\n",
       "<table border=\"1\" class=\"dataframe\">\n",
       "  <thead>\n",
       "    <tr style=\"text-align: right;\">\n",
       "      <th></th>\n",
       "      <th>b</th>\n",
       "      <th>b.1</th>\n",
       "      <th>b.2</th>\n",
       "      <th>b.3</th>\n",
       "      <th>b.4</th>\n",
       "      <th>b.5</th>\n",
       "      <th>b.6</th>\n",
       "      <th>b.7</th>\n",
       "      <th>b.8</th>\n",
       "      <th>b.9</th>\n",
       "      <th>...</th>\n",
       "      <th>b.24</th>\n",
       "      <th>b.25</th>\n",
       "      <th>b.26</th>\n",
       "      <th>b.27</th>\n",
       "      <th>b.28</th>\n",
       "      <th>b.29</th>\n",
       "      <th>b.30</th>\n",
       "      <th>b.31</th>\n",
       "      <th>b.32</th>\n",
       "      <th>b.33</th>\n",
       "    </tr>\n",
       "  </thead>\n",
       "  <tbody>\n",
       "    <tr>\n",
       "      <td>0</td>\n",
       "      <td>0</td>\n",
       "      <td>0</td>\n",
       "      <td>0</td>\n",
       "      <td>0</td>\n",
       "      <td>0</td>\n",
       "      <td>0</td>\n",
       "      <td>0</td>\n",
       "      <td>0</td>\n",
       "      <td>0</td>\n",
       "      <td>0</td>\n",
       "      <td>...</td>\n",
       "      <td>0</td>\n",
       "      <td>0</td>\n",
       "      <td>0</td>\n",
       "      <td>0</td>\n",
       "      <td>0</td>\n",
       "      <td>0</td>\n",
       "      <td>0</td>\n",
       "      <td>0</td>\n",
       "      <td>0</td>\n",
       "      <td>0</td>\n",
       "    </tr>\n",
       "    <tr>\n",
       "      <td>1</td>\n",
       "      <td>0</td>\n",
       "      <td>0</td>\n",
       "      <td>0</td>\n",
       "      <td>0</td>\n",
       "      <td>0</td>\n",
       "      <td>0</td>\n",
       "      <td>1</td>\n",
       "      <td>0</td>\n",
       "      <td>0</td>\n",
       "      <td>0</td>\n",
       "      <td>...</td>\n",
       "      <td>0</td>\n",
       "      <td>0</td>\n",
       "      <td>0</td>\n",
       "      <td>0</td>\n",
       "      <td>0</td>\n",
       "      <td>0</td>\n",
       "      <td>0</td>\n",
       "      <td>0</td>\n",
       "      <td>0</td>\n",
       "      <td>0</td>\n",
       "    </tr>\n",
       "    <tr>\n",
       "      <td>2</td>\n",
       "      <td>0</td>\n",
       "      <td>0</td>\n",
       "      <td>0</td>\n",
       "      <td>0</td>\n",
       "      <td>0</td>\n",
       "      <td>0</td>\n",
       "      <td>0</td>\n",
       "      <td>0</td>\n",
       "      <td>0</td>\n",
       "      <td>0</td>\n",
       "      <td>...</td>\n",
       "      <td>0</td>\n",
       "      <td>0</td>\n",
       "      <td>0</td>\n",
       "      <td>0</td>\n",
       "      <td>0</td>\n",
       "      <td>0</td>\n",
       "      <td>0</td>\n",
       "      <td>0</td>\n",
       "      <td>0</td>\n",
       "      <td>0</td>\n",
       "    </tr>\n",
       "    <tr>\n",
       "      <td>3</td>\n",
       "      <td>1</td>\n",
       "      <td>0</td>\n",
       "      <td>0</td>\n",
       "      <td>0</td>\n",
       "      <td>0</td>\n",
       "      <td>0</td>\n",
       "      <td>0</td>\n",
       "      <td>0</td>\n",
       "      <td>0</td>\n",
       "      <td>0</td>\n",
       "      <td>...</td>\n",
       "      <td>0</td>\n",
       "      <td>0</td>\n",
       "      <td>0</td>\n",
       "      <td>0</td>\n",
       "      <td>0</td>\n",
       "      <td>0</td>\n",
       "      <td>0</td>\n",
       "      <td>0</td>\n",
       "      <td>0</td>\n",
       "      <td>0</td>\n",
       "    </tr>\n",
       "    <tr>\n",
       "      <td>4</td>\n",
       "      <td>0</td>\n",
       "      <td>0</td>\n",
       "      <td>0</td>\n",
       "      <td>0</td>\n",
       "      <td>0</td>\n",
       "      <td>0</td>\n",
       "      <td>0</td>\n",
       "      <td>0</td>\n",
       "      <td>0</td>\n",
       "      <td>0</td>\n",
       "      <td>...</td>\n",
       "      <td>0</td>\n",
       "      <td>0</td>\n",
       "      <td>0</td>\n",
       "      <td>0</td>\n",
       "      <td>1</td>\n",
       "      <td>0</td>\n",
       "      <td>0</td>\n",
       "      <td>0</td>\n",
       "      <td>0</td>\n",
       "      <td>0</td>\n",
       "    </tr>\n",
       "    <tr>\n",
       "      <td>...</td>\n",
       "      <td>...</td>\n",
       "      <td>...</td>\n",
       "      <td>...</td>\n",
       "      <td>...</td>\n",
       "      <td>...</td>\n",
       "      <td>...</td>\n",
       "      <td>...</td>\n",
       "      <td>...</td>\n",
       "      <td>...</td>\n",
       "      <td>...</td>\n",
       "      <td>...</td>\n",
       "      <td>...</td>\n",
       "      <td>...</td>\n",
       "      <td>...</td>\n",
       "      <td>...</td>\n",
       "      <td>...</td>\n",
       "      <td>...</td>\n",
       "      <td>...</td>\n",
       "      <td>...</td>\n",
       "      <td>...</td>\n",
       "      <td>...</td>\n",
       "    </tr>\n",
       "    <tr>\n",
       "      <td>67551</td>\n",
       "      <td>2</td>\n",
       "      <td>2</td>\n",
       "      <td>0</td>\n",
       "      <td>0</td>\n",
       "      <td>0</td>\n",
       "      <td>0</td>\n",
       "      <td>1</td>\n",
       "      <td>2</td>\n",
       "      <td>1</td>\n",
       "      <td>0</td>\n",
       "      <td>...</td>\n",
       "      <td>0</td>\n",
       "      <td>0</td>\n",
       "      <td>0</td>\n",
       "      <td>0</td>\n",
       "      <td>1</td>\n",
       "      <td>1</td>\n",
       "      <td>2</td>\n",
       "      <td>0</td>\n",
       "      <td>0</td>\n",
       "      <td>0</td>\n",
       "    </tr>\n",
       "    <tr>\n",
       "      <td>67552</td>\n",
       "      <td>2</td>\n",
       "      <td>2</td>\n",
       "      <td>0</td>\n",
       "      <td>0</td>\n",
       "      <td>0</td>\n",
       "      <td>0</td>\n",
       "      <td>1</td>\n",
       "      <td>0</td>\n",
       "      <td>0</td>\n",
       "      <td>0</td>\n",
       "      <td>...</td>\n",
       "      <td>0</td>\n",
       "      <td>0</td>\n",
       "      <td>0</td>\n",
       "      <td>0</td>\n",
       "      <td>1</td>\n",
       "      <td>2</td>\n",
       "      <td>1</td>\n",
       "      <td>1</td>\n",
       "      <td>2</td>\n",
       "      <td>0</td>\n",
       "    </tr>\n",
       "    <tr>\n",
       "      <td>67553</td>\n",
       "      <td>2</td>\n",
       "      <td>2</td>\n",
       "      <td>0</td>\n",
       "      <td>0</td>\n",
       "      <td>0</td>\n",
       "      <td>0</td>\n",
       "      <td>1</td>\n",
       "      <td>1</td>\n",
       "      <td>0</td>\n",
       "      <td>0</td>\n",
       "      <td>...</td>\n",
       "      <td>0</td>\n",
       "      <td>0</td>\n",
       "      <td>0</td>\n",
       "      <td>0</td>\n",
       "      <td>1</td>\n",
       "      <td>2</td>\n",
       "      <td>2</td>\n",
       "      <td>1</td>\n",
       "      <td>0</td>\n",
       "      <td>0</td>\n",
       "    </tr>\n",
       "    <tr>\n",
       "      <td>67554</td>\n",
       "      <td>2</td>\n",
       "      <td>1</td>\n",
       "      <td>0</td>\n",
       "      <td>0</td>\n",
       "      <td>0</td>\n",
       "      <td>0</td>\n",
       "      <td>1</td>\n",
       "      <td>0</td>\n",
       "      <td>0</td>\n",
       "      <td>0</td>\n",
       "      <td>...</td>\n",
       "      <td>0</td>\n",
       "      <td>0</td>\n",
       "      <td>0</td>\n",
       "      <td>0</td>\n",
       "      <td>1</td>\n",
       "      <td>2</td>\n",
       "      <td>1</td>\n",
       "      <td>2</td>\n",
       "      <td>2</td>\n",
       "      <td>0</td>\n",
       "    </tr>\n",
       "    <tr>\n",
       "      <td>67555</td>\n",
       "      <td>2</td>\n",
       "      <td>1</td>\n",
       "      <td>1</td>\n",
       "      <td>1</td>\n",
       "      <td>2</td>\n",
       "      <td>0</td>\n",
       "      <td>1</td>\n",
       "      <td>0</td>\n",
       "      <td>0</td>\n",
       "      <td>0</td>\n",
       "      <td>...</td>\n",
       "      <td>0</td>\n",
       "      <td>0</td>\n",
       "      <td>0</td>\n",
       "      <td>0</td>\n",
       "      <td>2</td>\n",
       "      <td>0</td>\n",
       "      <td>0</td>\n",
       "      <td>0</td>\n",
       "      <td>0</td>\n",
       "      <td>0</td>\n",
       "    </tr>\n",
       "  </tbody>\n",
       "</table>\n",
       "<p>67556 rows × 42 columns</p>\n",
       "</div>"
      ],
      "text/plain": [
       "       b  b.1  b.2  b.3  b.4  b.5  b.6  b.7  b.8  b.9  ...  b.24  b.25  b.26  \\\n",
       "0      0    0    0    0    0    0    0    0    0    0  ...     0     0     0   \n",
       "1      0    0    0    0    0    0    1    0    0    0  ...     0     0     0   \n",
       "2      0    0    0    0    0    0    0    0    0    0  ...     0     0     0   \n",
       "3      1    0    0    0    0    0    0    0    0    0  ...     0     0     0   \n",
       "4      0    0    0    0    0    0    0    0    0    0  ...     0     0     0   \n",
       "...   ..  ...  ...  ...  ...  ...  ...  ...  ...  ...  ...   ...   ...   ...   \n",
       "67551  2    2    0    0    0    0    1    2    1    0  ...     0     0     0   \n",
       "67552  2    2    0    0    0    0    1    0    0    0  ...     0     0     0   \n",
       "67553  2    2    0    0    0    0    1    1    0    0  ...     0     0     0   \n",
       "67554  2    1    0    0    0    0    1    0    0    0  ...     0     0     0   \n",
       "67555  2    1    1    1    2    0    1    0    0    0  ...     0     0     0   \n",
       "\n",
       "       b.27  b.28  b.29  b.30  b.31  b.32  b.33  \n",
       "0         0     0     0     0     0     0     0  \n",
       "1         0     0     0     0     0     0     0  \n",
       "2         0     0     0     0     0     0     0  \n",
       "3         0     0     0     0     0     0     0  \n",
       "4         0     1     0     0     0     0     0  \n",
       "...     ...   ...   ...   ...   ...   ...   ...  \n",
       "67551     0     1     1     2     0     0     0  \n",
       "67552     0     1     2     1     1     2     0  \n",
       "67553     0     1     2     2     1     0     0  \n",
       "67554     0     1     2     1     2     2     0  \n",
       "67555     0     2     0     0     0     0     0  \n",
       "\n",
       "[67556 rows x 42 columns]"
      ]
     },
     "execution_count": 243,
     "metadata": {},
     "output_type": "execute_result"
    }
   ],
   "source": [
    "x"
   ]
  },
  {
   "cell_type": "code",
   "execution_count": 244,
   "metadata": {
    "colab": {
     "base_uri": "https://localhost:8080/",
     "height": 235
    },
    "colab_type": "code",
    "id": "0RIl5RZlAUvg",
    "outputId": "a7dc5e81-9e65-42cd-daf5-7c8f67a755a8"
   },
   "outputs": [
    {
     "data": {
      "text/plain": [
       "0        2\n",
       "1        2\n",
       "2        2\n",
       "3        2\n",
       "4        2\n",
       "        ..\n",
       "67551    1\n",
       "67552    0\n",
       "67553    1\n",
       "67554    0\n",
       "67555    0\n",
       "Name: win, Length: 67556, dtype: int8"
      ]
     },
     "execution_count": 244,
     "metadata": {},
     "output_type": "execute_result"
    }
   ],
   "source": [
    "y"
   ]
  },
  {
   "cell_type": "code",
   "execution_count": 245,
   "metadata": {
    "colab": {},
    "colab_type": "code",
    "id": "Mz0EaN85_Mwh"
   },
   "outputs": [],
   "source": [
    "#spliting dataset into training and testing\n",
    "x_train_full,x_test_full,y_train_full,y_test_full=train_test_split(x,y,test_size=0.3,random_state=0)"
   ]
  },
  {
   "cell_type": "code",
   "execution_count": 246,
   "metadata": {
    "colab": {
     "base_uri": "https://localhost:8080/",
     "height": 35
    },
    "colab_type": "code",
    "id": "ZC4YHhh7Ahuk",
    "outputId": "0afc3392-d354-4085-c4d0-88f889a98eef"
   },
   "outputs": [
    {
     "data": {
      "text/plain": [
       "(47289, 42)"
      ]
     },
     "execution_count": 246,
     "metadata": {},
     "output_type": "execute_result"
    }
   ],
   "source": [
    "x_train_full.shape"
   ]
  },
  {
   "cell_type": "code",
   "execution_count": 247,
   "metadata": {
    "colab": {
     "base_uri": "https://localhost:8080/",
     "height": 35
    },
    "colab_type": "code",
    "id": "jkgCRdF5Avz8",
    "outputId": "84c71b8c-0f83-45c3-a05f-7260fe78ff02"
   },
   "outputs": [
    {
     "data": {
      "text/plain": [
       "(20267, 42)"
      ]
     },
     "execution_count": 247,
     "metadata": {},
     "output_type": "execute_result"
    }
   ],
   "source": [
    "x_test_full.shape"
   ]
  },
  {
   "cell_type": "code",
   "execution_count": 248,
   "metadata": {
    "colab": {},
    "colab_type": "code",
    "id": "B7bVoRULA0QM"
   },
   "outputs": [],
   "source": [
    "#spliting training data into training and validation\n",
    "x_train,x_valid,y_train,y_valid=train_test_split(x_train_full,y_train_full,test_size=0.2,random_state=0)"
   ]
  },
  {
   "cell_type": "code",
   "execution_count": 249,
   "metadata": {
    "colab": {
     "base_uri": "https://localhost:8080/",
     "height": 35
    },
    "colab_type": "code",
    "id": "HTrHyExlBPC7",
    "outputId": "5a1d2cae-13b5-40fd-ba73-164053188d77"
   },
   "outputs": [
    {
     "data": {
      "text/plain": [
       "(37831, 42)"
      ]
     },
     "execution_count": 249,
     "metadata": {},
     "output_type": "execute_result"
    }
   ],
   "source": [
    "x_train.shape"
   ]
  },
  {
   "cell_type": "code",
   "execution_count": 250,
   "metadata": {
    "colab": {
     "base_uri": "https://localhost:8080/",
     "height": 35
    },
    "colab_type": "code",
    "id": "FEdcf9VIBwTI",
    "outputId": "05475926-d084-48b8-ff53-f8f0ae202943"
   },
   "outputs": [
    {
     "data": {
      "text/plain": [
       "(37831,)"
      ]
     },
     "execution_count": 250,
     "metadata": {},
     "output_type": "execute_result"
    }
   ],
   "source": [
    "y_train.shape"
   ]
  },
  {
   "cell_type": "code",
   "execution_count": 251,
   "metadata": {
    "colab": {
     "base_uri": "https://localhost:8080/",
     "height": 35
    },
    "colab_type": "code",
    "id": "7_fmFUS5Bqrh",
    "outputId": "6446e9bd-dcc3-4f69-fdaa-4f48d66358f4"
   },
   "outputs": [
    {
     "data": {
      "text/plain": [
       "(9458, 42)"
      ]
     },
     "execution_count": 251,
     "metadata": {},
     "output_type": "execute_result"
    }
   ],
   "source": [
    "x_valid.shape"
   ]
  },
  {
   "cell_type": "markdown",
   "metadata": {},
   "source": [
    "# Model Building"
   ]
  },
  {
   "cell_type": "code",
   "execution_count": 286,
   "metadata": {
    "colab": {},
    "colab_type": "code",
    "id": "JFbBwi3nB4U4"
   },
   "outputs": [],
   "source": [
    "#creates a Sequential model.\n",
    "model = keras.models.Sequential()#create an instance\n",
    "model.add(keras.layers.Dense(42, activation=\"relu\",input_dim=42,)) #input layer\n",
    "model.add(keras.layers.Dense(60, activation=\"relu\")) #hidden layer\n",
    "model.add(keras.layers.Dense(40, activation=\"relu\")) #hidden layer\n",
    "model.add(keras.layers.Dense(20, activation=\"relu\")) #hidden layer\n",
    "model.add(keras.layers.Dense(8, activation=\"relu\")) #hidden layer\n",
    "model.add(keras.layers.Dense(3, activation=\"softmax\")) #output layer with softmax function"
   ]
  },
  {
   "cell_type": "code",
   "execution_count": 287,
   "metadata": {
    "colab": {
     "base_uri": "https://localhost:8080/",
     "height": 381
    },
    "colab_type": "code",
    "id": "t9Cd2uZScqf6",
    "outputId": "71600db5-cee7-4d55-d256-c41dbd9d61bc"
   },
   "outputs": [
    {
     "name": "stdout",
     "output_type": "stream",
     "text": [
      "Model: \"sequential_10\"\n",
      "_________________________________________________________________\n",
      "Layer (type)                 Output Shape              Param #   \n",
      "=================================================================\n",
      "dense_60 (Dense)             (None, 42)                1806      \n",
      "_________________________________________________________________\n",
      "dense_61 (Dense)             (None, 60)                2580      \n",
      "_________________________________________________________________\n",
      "dense_62 (Dense)             (None, 40)                2440      \n",
      "_________________________________________________________________\n",
      "dense_63 (Dense)             (None, 20)                820       \n",
      "_________________________________________________________________\n",
      "dense_64 (Dense)             (None, 8)                 168       \n",
      "_________________________________________________________________\n",
      "dense_65 (Dense)             (None, 3)                 27        \n",
      "=================================================================\n",
      "Total params: 7,841\n",
      "Trainable params: 7,841\n",
      "Non-trainable params: 0\n",
      "_________________________________________________________________\n"
     ]
    }
   ],
   "source": [
    "model.summary()"
   ]
  },
  {
   "cell_type": "code",
   "execution_count": 288,
   "metadata": {
    "colab": {
     "base_uri": "https://localhost:8080/",
     "height": 126
    },
    "colab_type": "code",
    "id": "6F5WIkiACetn",
    "outputId": "460d9ff3-46e2-439d-bd76-40ddd390ffe5"
   },
   "outputs": [
    {
     "data": {
      "text/plain": [
       "[<tensorflow.python.keras.layers.core.Dense at 0x212919c8ac8>,\n",
       " <tensorflow.python.keras.layers.core.Dense at 0x212919c8648>,\n",
       " <tensorflow.python.keras.layers.core.Dense at 0x21291a6bec8>,\n",
       " <tensorflow.python.keras.layers.core.Dense at 0x21291a48148>,\n",
       " <tensorflow.python.keras.layers.core.Dense at 0x21299d2d1c8>,\n",
       " <tensorflow.python.keras.layers.core.Dense at 0x21299c17f48>]"
      ]
     },
     "execution_count": 288,
     "metadata": {},
     "output_type": "execute_result"
    }
   ],
   "source": [
    "model.layers"
   ]
  },
  {
   "cell_type": "code",
   "execution_count": 289,
   "metadata": {
    "colab": {
     "base_uri": "https://localhost:8080/",
     "height": 35
    },
    "colab_type": "code",
    "id": "DvD8Ieh9C0EN",
    "outputId": "e01de44b-6165-41c6-b7c7-07ff9eca5acd"
   },
   "outputs": [
    {
     "data": {
      "text/plain": [
       "'dense_60'"
      ]
     },
     "execution_count": 289,
     "metadata": {},
     "output_type": "execute_result"
    }
   ],
   "source": [
    "model.layers[0].name #name of first layer"
   ]
  },
  {
   "cell_type": "code",
   "execution_count": 290,
   "metadata": {
    "colab": {
     "base_uri": "https://localhost:8080/",
     "height": 35
    },
    "colab_type": "code",
    "id": "rn-4e6piXsZ-",
    "outputId": "44ec16c5-724f-49f5-82a0-eb6c1c9eb736"
   },
   "outputs": [
    {
     "data": {
      "text/plain": [
       "'dense_61'"
      ]
     },
     "execution_count": 290,
     "metadata": {},
     "output_type": "execute_result"
    }
   ],
   "source": [
    "model.layers[1].name #name of second layer"
   ]
  },
  {
   "cell_type": "markdown",
   "metadata": {},
   "source": [
    "# Compiling model"
   ]
  },
  {
   "cell_type": "code",
   "execution_count": 291,
   "metadata": {
    "colab": {},
    "colab_type": "code",
    "id": "AtLi_rbVDjxL"
   },
   "outputs": [],
   "source": [
    "model.compile(loss=\"sparse_categorical_crossentropy\",  #\"sparse_categorical_crossentropy\",\n",
    "optimizer=\"sgd\", #\"sgd\",\n",
    "metrics=[\"accuracy\"]) # could be a custom function as well!"
   ]
  },
  {
   "cell_type": "markdown",
   "metadata": {},
   "source": [
    "# Creating a check point"
   ]
  },
  {
   "cell_type": "code",
   "execution_count": 292,
   "metadata": {},
   "outputs": [],
   "source": [
    "#check point\n",
    "#to save the best model only (when performance for validation set is best)\n",
    "#save weight only = false to not store full model\n",
    "#saving model as connect4_checkpoint.h5\n",
    "checkpoint=keras.callbacks.ModelCheckpoint(\"connect4_checkpoint.h5\",save_best_only=True,save_weights_only=False)"
   ]
  },
  {
   "cell_type": "markdown",
   "metadata": {},
   "source": [
    "# Fitting model with callback"
   ]
  },
  {
   "cell_type": "code",
   "execution_count": 293,
   "metadata": {
    "colab": {
     "base_uri": "https://localhost:8080/",
     "height": 745
    },
    "colab_type": "code",
    "id": "VnZydiMOD7o8",
    "outputId": "1b8a11b6-e180-4c97-bcb6-e9c709dcc487",
    "scrolled": true
   },
   "outputs": [
    {
     "name": "stdout",
     "output_type": "stream",
     "text": [
      "Train on 37831 samples, validate on 9458 samples\n",
      "Epoch 1/30\n",
      "37831/37831 - 3s - loss: 0.8513 - acc: 0.6557 - val_loss: 0.8335 - val_acc: 0.6608\n",
      "Epoch 2/30\n",
      "37831/37831 - 2s - loss: 0.8344 - acc: 0.6558 - val_loss: 0.8226 - val_acc: 0.6608\n",
      "Epoch 3/30\n",
      "37831/37831 - 2s - loss: 0.8258 - acc: 0.6558 - val_loss: 0.8148 - val_acc: 0.6608\n",
      "Epoch 4/30\n",
      "37831/37831 - 2s - loss: 0.8181 - acc: 0.6558 - val_loss: 0.8056 - val_acc: 0.6608\n",
      "Epoch 5/30\n",
      "37831/37831 - 2s - loss: 0.8091 - acc: 0.6558 - val_loss: 0.7953 - val_acc: 0.6609\n",
      "Epoch 6/30\n",
      "37831/37831 - 2s - loss: 0.7965 - acc: 0.6575 - val_loss: 0.7832 - val_acc: 0.6698\n",
      "Epoch 7/30\n",
      "37831/37831 - 2s - loss: 0.7794 - acc: 0.6686 - val_loss: 0.7641 - val_acc: 0.6778\n",
      "Epoch 8/30\n",
      "37831/37831 - 2s - loss: 0.7571 - acc: 0.6836 - val_loss: 0.7412 - val_acc: 0.6916\n",
      "Epoch 9/30\n",
      "37831/37831 - 2s - loss: 0.7333 - acc: 0.7004 - val_loss: 0.7865 - val_acc: 0.6850\n",
      "Epoch 10/30\n",
      "37831/37831 - 2s - loss: 0.7086 - acc: 0.7101 - val_loss: 0.7825 - val_acc: 0.6626\n",
      "Epoch 11/30\n",
      "37831/37831 - 2s - loss: 0.6871 - acc: 0.7219 - val_loss: 0.7268 - val_acc: 0.7125\n",
      "Epoch 12/30\n",
      "37831/37831 - 2s - loss: 0.6719 - acc: 0.7310 - val_loss: 0.6615 - val_acc: 0.7390\n",
      "Epoch 13/30\n",
      "37831/37831 - 2s - loss: 0.6576 - acc: 0.7363 - val_loss: 0.6468 - val_acc: 0.7459\n",
      "Epoch 14/30\n",
      "37831/37831 - 2s - loss: 0.6465 - acc: 0.7397 - val_loss: 0.6384 - val_acc: 0.7487\n",
      "Epoch 15/30\n",
      "37831/37831 - 2s - loss: 0.6358 - acc: 0.7459 - val_loss: 0.6542 - val_acc: 0.7461\n",
      "Epoch 16/30\n",
      "37831/37831 - 2s - loss: 0.6274 - acc: 0.7498 - val_loss: 0.6338 - val_acc: 0.7470\n",
      "Epoch 17/30\n",
      "37831/37831 - 2s - loss: 0.6182 - acc: 0.7532 - val_loss: 0.6655 - val_acc: 0.7420\n",
      "Epoch 18/30\n",
      "37831/37831 - 2s - loss: 0.6091 - acc: 0.7560 - val_loss: 0.6667 - val_acc: 0.7250\n",
      "Epoch 19/30\n",
      "37831/37831 - 2s - loss: 0.6046 - acc: 0.7583 - val_loss: 0.6386 - val_acc: 0.7528\n",
      "Epoch 20/30\n",
      "37831/37831 - 2s - loss: 0.5979 - acc: 0.7627 - val_loss: 0.6070 - val_acc: 0.7612\n",
      "Epoch 21/30\n",
      "37831/37831 - 2s - loss: 0.5899 - acc: 0.7649 - val_loss: 0.6361 - val_acc: 0.7362\n",
      "Epoch 22/30\n",
      "37831/37831 - 2s - loss: 0.5868 - acc: 0.7666 - val_loss: 0.5883 - val_acc: 0.7657\n",
      "Epoch 23/30\n",
      "37831/37831 - 2s - loss: 0.5800 - acc: 0.7697 - val_loss: 0.5967 - val_acc: 0.7617\n",
      "Epoch 24/30\n",
      "37831/37831 - 2s - loss: 0.5724 - acc: 0.7724 - val_loss: 0.5989 - val_acc: 0.7619\n",
      "Epoch 25/30\n",
      "37831/37831 - 2s - loss: 0.5672 - acc: 0.7749 - val_loss: 0.6040 - val_acc: 0.7634\n",
      "Epoch 26/30\n",
      "37831/37831 - 2s - loss: 0.5628 - acc: 0.7742 - val_loss: 0.5915 - val_acc: 0.7706\n",
      "Epoch 27/30\n",
      "37831/37831 - 2s - loss: 0.5566 - acc: 0.7797 - val_loss: 0.5747 - val_acc: 0.7742\n",
      "Epoch 28/30\n",
      "37831/37831 - 2s - loss: 0.5519 - acc: 0.7811 - val_loss: 0.5867 - val_acc: 0.7652\n",
      "Epoch 29/30\n",
      "37831/37831 - 2s - loss: 0.5472 - acc: 0.7825 - val_loss: 0.6200 - val_acc: 0.7492\n",
      "Epoch 30/30\n",
      "37831/37831 - 2s - loss: 0.5433 - acc: 0.7851 - val_loss: 0.5775 - val_acc: 0.7708\n"
     ]
    }
   ],
   "source": [
    "fithistory = model.fit(x_train, y_train, epochs=30,validation_data=(x_valid, y_valid),verbose=2,callbacks=[checkpoint])\n",
    "#fitting the model with training data\n",
    "#number of epochs equal to 20\n",
    "#specifying validation set for the model\n",
    "#verbose = 2 to see result after each epoches\n",
    "# set callback parameter equal to checkpoint to save the model"
   ]
  },
  {
   "cell_type": "code",
   "execution_count": 294,
   "metadata": {
    "colab": {
     "base_uri": "https://localhost:8080/",
     "height": 1000
    },
    "colab_type": "code",
    "id": "1ev4oiEzE2uf",
    "outputId": "11877ba1-97ad-4e85-bc87-037f5d3b819f"
   },
   "outputs": [
    {
     "data": {
      "text/plain": [
       "{'loss': [0.8512716736490004,\n",
       "  0.8344461542974995,\n",
       "  0.8258230836148626,\n",
       "  0.8180822104224288,\n",
       "  0.809144410448371,\n",
       "  0.7964556333516485,\n",
       "  0.7794357713030576,\n",
       "  0.7571473862506223,\n",
       "  0.7333193140797705,\n",
       "  0.7086417080626191,\n",
       "  0.6870874892644042,\n",
       "  0.6718917398040154,\n",
       "  0.6576093103192976,\n",
       "  0.646513575833989,\n",
       "  0.6357738693609816,\n",
       "  0.6273882289994059,\n",
       "  0.6182458529354248,\n",
       "  0.6090755152310334,\n",
       "  0.604574940678609,\n",
       "  0.5978576147299648,\n",
       "  0.5899293769430337,\n",
       "  0.5867903765661919,\n",
       "  0.5799614432035721,\n",
       "  0.5723603987012519,\n",
       "  0.5672155629042601,\n",
       "  0.5627672724942376,\n",
       "  0.5565645882191645,\n",
       "  0.5519093820636005,\n",
       "  0.5472207801618236,\n",
       "  0.5432566294778881],\n",
       " 'acc': [0.65565276,\n",
       "  0.65578496,\n",
       "  0.65578496,\n",
       "  0.65578496,\n",
       "  0.65581137,\n",
       "  0.65747666,\n",
       "  0.6685787,\n",
       "  0.6835928,\n",
       "  0.70035154,\n",
       "  0.7100526,\n",
       "  0.7219476,\n",
       "  0.73101425,\n",
       "  0.73630095,\n",
       "  0.73965794,\n",
       "  0.7458698,\n",
       "  0.7498084,\n",
       "  0.7532447,\n",
       "  0.75604665,\n",
       "  0.7583199,\n",
       "  0.7627343,\n",
       "  0.76487535,\n",
       "  0.7666464,\n",
       "  0.7696862,\n",
       "  0.77235603,\n",
       "  0.7748672,\n",
       "  0.7741799,\n",
       "  0.7797309,\n",
       "  0.781079,\n",
       "  0.7825329,\n",
       "  0.78514975],\n",
       " 'val_loss': [0.8334796086858054,\n",
       "  0.8226178820729634,\n",
       "  0.8148194776072415,\n",
       "  0.8055943136589299,\n",
       "  0.7952858358716128,\n",
       "  0.7832097190710525,\n",
       "  0.7640938082767809,\n",
       "  0.7411905381411824,\n",
       "  0.7864716225306664,\n",
       "  0.7824570335956678,\n",
       "  0.7267501003446274,\n",
       "  0.6615338627493994,\n",
       "  0.6467686356828136,\n",
       "  0.6384303795406545,\n",
       "  0.6542127362187959,\n",
       "  0.6337917150138271,\n",
       "  0.6655400538953723,\n",
       "  0.6666649445768491,\n",
       "  0.6386368392095628,\n",
       "  0.6069582939481957,\n",
       "  0.6360909604930454,\n",
       "  0.5883317124795702,\n",
       "  0.5967342078647948,\n",
       "  0.5989353762958085,\n",
       "  0.6040261085831506,\n",
       "  0.5914682764713596,\n",
       "  0.574652443951294,\n",
       "  0.5867414972095969,\n",
       "  0.6199754356556499,\n",
       "  0.5775232130602919],\n",
       " 'val_acc': [0.66081625,\n",
       "  0.66081625,\n",
       "  0.66081625,\n",
       "  0.66081625,\n",
       "  0.660922,\n",
       "  0.6698033,\n",
       "  0.67783886,\n",
       "  0.6915839,\n",
       "  0.68502855,\n",
       "  0.6626137,\n",
       "  0.7125185,\n",
       "  0.73895115,\n",
       "  0.74592936,\n",
       "  0.7486784,\n",
       "  0.74614084,\n",
       "  0.7469867,\n",
       "  0.7420173,\n",
       "  0.7249947,\n",
       "  0.75280184,\n",
       "  0.7611546,\n",
       "  0.7362022,\n",
       "  0.765701,\n",
       "  0.7616832,\n",
       "  0.7618947,\n",
       "  0.7633749,\n",
       "  0.7705646,\n",
       "  0.77415943,\n",
       "  0.76517236,\n",
       "  0.749207,\n",
       "  0.77077603]}"
      ]
     },
     "execution_count": 294,
     "metadata": {},
     "output_type": "execute_result"
    }
   ],
   "source": [
    "fithistory.history"
   ]
  },
  {
   "cell_type": "code",
   "execution_count": 295,
   "metadata": {
    "colab": {},
    "colab_type": "code",
    "id": "0tQUuT6SE3If"
   },
   "outputs": [],
   "source": [
    "import matplotlib.pyplot as plt"
   ]
  },
  {
   "cell_type": "code",
   "execution_count": 296,
   "metadata": {
    "colab": {
     "base_uri": "https://localhost:8080/",
     "height": 324
    },
    "colab_type": "code",
    "id": "Q0gX134jE8WP",
    "outputId": "98ea7360-f622-4bc1-a144-b86fb3c1333b"
   },
   "outputs": [
    {
     "data": {
      "image/png": "[encoded data removed]",
      "text/plain": [
       "<Figure size 576x360 with 1 Axes>"
      ]
     },
     "metadata": {
      "needs_background": "light"
     },
     "output_type": "display_data"
    }
   ],
   "source": [
    "pd.DataFrame(fithistory.history).plot(figsize=(8, 5))\n",
    "plt.grid(True)\n",
    "plt.gca().set_ylim(0, 1) # set the vertical range to [0-1]\n",
    "plt.show()"
   ]
  },
  {
   "cell_type": "code",
   "execution_count": 297,
   "metadata": {
    "colab": {
     "base_uri": "https://localhost:8080/",
     "height": 54
    },
    "colab_type": "code",
    "id": "QfNVaZHfE-B_",
    "outputId": "d5145584-545b-4e79-ab32-68766b424196"
   },
   "outputs": [
    {
     "name": "stdout",
     "output_type": "stream",
     "text": [
      "20267/20267 - 1s - loss: 0.5824 - acc: 0.7659\n"
     ]
    }
   ],
   "source": [
    "#checking the loss and accuracy after model training\n",
    "loss,acc=model.evaluate(x_test_full, y_test_full,verbose=2)"
   ]
  },
  {
   "cell_type": "code",
   "execution_count": 298,
   "metadata": {},
   "outputs": [
    {
     "data": {
      "text/plain": [
       "array([[0.06071274, 0.00851116, 0.93077606],\n",
       "       [0.2301669 , 0.46083722, 0.3089959 ],\n",
       "       [0.09364663, 0.42208207, 0.48427132],\n",
       "       [0.04715882, 0.06191947, 0.8909217 ],\n",
       "       [0.06209475, 0.03352956, 0.9043757 ]], dtype=float32)"
      ]
     },
     "execution_count": 298,
     "metadata": {},
     "output_type": "execute_result"
    }
   ],
   "source": [
    "#predicting values for few records using the trained model\n",
    "model.predict(x_train[:5])\n",
    "# as we are using softmax layer it returns the probability for each class"
   ]
  },
  {
   "cell_type": "code",
   "execution_count": 299,
   "metadata": {},
   "outputs": [],
   "source": [
    "#loading the saved model into model_trained\n",
    "model_trained=keras.models.load_model(\"connect4_checkpoint.h5\")"
   ]
  },
  {
   "cell_type": "code",
   "execution_count": 300,
   "metadata": {},
   "outputs": [
    {
     "data": {
      "text/plain": [
       "array([[0.07941521, 0.01556477, 0.90502   ],\n",
       "       [0.21322402, 0.30729848, 0.47947752],\n",
       "       [0.09989322, 0.5624158 , 0.33769095],\n",
       "       [0.05962494, 0.08201767, 0.85835737],\n",
       "       [0.12254645, 0.18590595, 0.69154763]], dtype=float32)"
      ]
     },
     "execution_count": 300,
     "metadata": {},
     "output_type": "execute_result"
    }
   ],
   "source": [
    "#using the loaded model predicting few records\n",
    "model_trained.predict(x_train[:5])"
   ]
  },
  {
   "cell_type": "code",
   "execution_count": 301,
   "metadata": {},
   "outputs": [
    {
     "name": "stdout",
     "output_type": "stream",
     "text": [
      "20267/20267 - 1s - loss: 0.5774 - acc: 0.7677\n"
     ]
    }
   ],
   "source": [
    "#checking the loss and accuracy of loaded model\n",
    "loss,acc=model_trained.evaluate(x_test_full, y_test_full,verbose=2)"
   ]
  },
  {
   "cell_type": "code",
   "execution_count": 302,
   "metadata": {},
   "outputs": [],
   "source": [
    "#here, we can see for saved model the loss is less and accuracy is better than the first model \n",
    "#because it stores the best weights/model for when performance for validation set is best"
   ]
  },
  {
   "cell_type": "markdown",
   "metadata": {},
   "source": [
    "# checkpoint- storing full model"
   ]
  },
  {
   "cell_type": "code",
   "execution_count": 312,
   "metadata": {},
   "outputs": [
    {
     "name": "stdout",
     "output_type": "stream",
     "text": [
      "Train on 37831 samples, validate on 9458 samples\n",
      "Epoch 1/30\n",
      "37831/37831 - 3s - loss: 0.8551 - acc: 0.6486 - val_loss: 0.8255 - val_acc: 0.6608\n",
      "Epoch 2/30\n",
      "37831/37831 - 2s - loss: 0.8256 - acc: 0.6558 - val_loss: 0.8116 - val_acc: 0.6608\n",
      "Epoch 3/30\n",
      "37831/37831 - 2s - loss: 0.8142 - acc: 0.6558 - val_loss: 0.8011 - val_acc: 0.6608\n",
      "Epoch 4/30\n",
      "37831/37831 - 2s - loss: 0.8023 - acc: 0.6558 - val_loss: 0.7866 - val_acc: 0.6609\n",
      "Epoch 5/30\n",
      "37831/37831 - 2s - loss: 0.7874 - acc: 0.6619 - val_loss: 0.7858 - val_acc: 0.6856\n",
      "Epoch 6/30\n",
      "37831/37831 - 2s - loss: 0.7670 - acc: 0.6788 - val_loss: 0.7559 - val_acc: 0.6921\n",
      "Epoch 7/30\n",
      "37831/37831 - 2s - loss: 0.7423 - acc: 0.6922 - val_loss: 0.7536 - val_acc: 0.6874\n",
      "Epoch 8/30\n",
      "37831/37831 - 2s - loss: 0.7176 - acc: 0.7047 - val_loss: 0.7250 - val_acc: 0.7028\n",
      "Epoch 9/30\n",
      "37831/37831 - 2s - loss: 0.6971 - acc: 0.7138 - val_loss: 0.7342 - val_acc: 0.7005\n",
      "Epoch 10/30\n",
      "37831/37831 - 2s - loss: 0.6787 - acc: 0.7217 - val_loss: 0.7245 - val_acc: 0.6887\n",
      "Epoch 11/30\n",
      "37831/37831 - 2s - loss: 0.6632 - acc: 0.7297 - val_loss: 0.6962 - val_acc: 0.7083\n",
      "Epoch 12/30\n",
      "37831/37831 - 2s - loss: 0.6519 - acc: 0.7362 - val_loss: 0.6649 - val_acc: 0.7355\n",
      "Epoch 13/30\n",
      "37831/37831 - 2s - loss: 0.6396 - acc: 0.7418 - val_loss: 0.6668 - val_acc: 0.7333\n",
      "Epoch 14/30\n",
      "37831/37831 - 2s - loss: 0.6318 - acc: 0.7453 - val_loss: 0.6476 - val_acc: 0.7450\n",
      "Epoch 15/30\n",
      "37831/37831 - 2s - loss: 0.6211 - acc: 0.7492 - val_loss: 0.6441 - val_acc: 0.7485\n",
      "Epoch 16/30\n",
      "37831/37831 - 2s - loss: 0.6138 - acc: 0.7525 - val_loss: 0.6890 - val_acc: 0.7038\n",
      "Epoch 17/30\n",
      "37831/37831 - 2s - loss: 0.6080 - acc: 0.7553 - val_loss: 0.7651 - val_acc: 0.7175\n",
      "Epoch 18/30\n",
      "37831/37831 - 2s - loss: 0.6005 - acc: 0.7589 - val_loss: 0.6197 - val_acc: 0.7554\n",
      "Epoch 19/30\n",
      "37831/37831 - 2s - loss: 0.5941 - acc: 0.7595 - val_loss: 0.6484 - val_acc: 0.7337\n",
      "Epoch 20/30\n",
      "37831/37831 - 2s - loss: 0.5875 - acc: 0.7662 - val_loss: 0.6160 - val_acc: 0.7497\n",
      "Epoch 21/30\n",
      "37831/37831 - 2s - loss: 0.5833 - acc: 0.7656 - val_loss: 0.6107 - val_acc: 0.7608\n",
      "Epoch 22/30\n",
      "37831/37831 - 2s - loss: 0.5778 - acc: 0.7666 - val_loss: 0.5967 - val_acc: 0.7616\n",
      "Epoch 23/30\n",
      "37831/37831 - 2s - loss: 0.5740 - acc: 0.7691 - val_loss: 0.5918 - val_acc: 0.7649\n",
      "Epoch 24/30\n",
      "37831/37831 - 2s - loss: 0.5695 - acc: 0.7719 - val_loss: 0.5777 - val_acc: 0.7711\n",
      "Epoch 25/30\n",
      "37831/37831 - 2s - loss: 0.5633 - acc: 0.7750 - val_loss: 0.5911 - val_acc: 0.7663\n",
      "Epoch 26/30\n",
      "37831/37831 - 2s - loss: 0.5591 - acc: 0.7764 - val_loss: 0.6352 - val_acc: 0.7558\n",
      "Epoch 27/30\n",
      "37831/37831 - 2s - loss: 0.5552 - acc: 0.7780 - val_loss: 0.5769 - val_acc: 0.7683\n",
      "Epoch 28/30\n",
      "37831/37831 - 2s - loss: 0.5514 - acc: 0.7798 - val_loss: 0.5775 - val_acc: 0.7686\n",
      "Epoch 29/30\n",
      "37831/37831 - 2s - loss: 0.5489 - acc: 0.7803 - val_loss: 0.7611 - val_acc: 0.6675\n",
      "Epoch 30/30\n",
      "37831/37831 - 2s - loss: 0.5451 - acc: 0.7818 - val_loss: 0.5689 - val_acc: 0.7737\n"
     ]
    }
   ],
   "source": [
    "#storing complete model and weights\n",
    "#creates a Sequential model.\n",
    "model = keras.models.Sequential()#create an instance\n",
    "model.add(keras.layers.Dense(42, activation=\"relu\",input_dim=42,)) #input layer\n",
    "model.add(keras.layers.Dense(60, activation=\"relu\")) #hidden layer\n",
    "model.add(keras.layers.Dense(40, activation=\"relu\")) #hidden layer\n",
    "model.add(keras.layers.Dense(20, activation=\"relu\")) #hidden layer\n",
    "model.add(keras.layers.Dense(8, activation=\"relu\")) #hidden layer\n",
    "model.add(keras.layers.Dense(3, activation=\"softmax\")) #output layer with softmax function\n",
    "\n",
    "model.compile(loss=\"sparse_categorical_crossentropy\",  #\"sparse_categorical_crossentropy\",\n",
    "optimizer=\"sgd\", #\"sgd\",\n",
    "metrics=[\"accuracy\"]) # could be a custom function as well!\n",
    "\n",
    "#check point 2\n",
    "#to save all models\n",
    "#save weight only = true to store full model\n",
    "#saving model as connect4_checkpoint.h5\n",
    "checkpoint2=keras.callbacks.ModelCheckpoint(\"checkpoint2.h5\",save_best_only=True,save_weights_only=False)\n",
    "fithistory = model.fit(x_train, y_train, epochs=30,validation_data=(x_valid, y_valid),verbose=2,callbacks=[checkpoint2])\n",
    "#fitting the model with training data\n",
    "#number of epochs equal to 20\n",
    "#specifying validation set for the model\n",
    "#verbose = 2 to see result after each epoches\n",
    "# set callback parameter equal to checkpoint2 to save the model\n",
    "\n"
   ]
  },
  {
   "cell_type": "code",
   "execution_count": 313,
   "metadata": {},
   "outputs": [],
   "source": [
    "#loading the second saved model into model_trained_2\n",
    "model_trained_2=keras.models.load_model(\"checkpoint2.h5\")"
   ]
  },
  {
   "cell_type": "code",
   "execution_count": 314,
   "metadata": {},
   "outputs": [
    {
     "name": "stdout",
     "output_type": "stream",
     "text": [
      "20267/20267 - 1s - loss: 0.5746 - acc: 0.7695\n"
     ]
    }
   ],
   "source": [
    "#checking the loss and accuracy of loaded model\n",
    "loss,acc=model_trained_2.evaluate(x_test_full, y_test_full,verbose=2)"
   ]
  },
  {
   "cell_type": "code",
   "execution_count": null,
   "metadata": {},
   "outputs": [],
   "source": []
  }
 ],
 "metadata": {
  "accelerator": "GPU",
  "colab": {
   "collapsed_sections": [],
   "name": "Connect4DL.ipynb",
   "provenance": []
  },
  "kernelspec": {
   "display_name": "Python 3",
   "language": "python",
   "name": "python3"
  },
  "language_info": {
   "codemirror_mode": {
    "name": "ipython",
    "version": 3
   },
   "file_extension": ".py",
   "mimetype": "text/x-python",
   "name": "python",
   "nbconvert_exporter": "python",
   "pygments_lexer": "ipython3",
   "version": "3.7.4"
  }
 },
 "nbformat": 4,
 "nbformat_minor": 1
}
